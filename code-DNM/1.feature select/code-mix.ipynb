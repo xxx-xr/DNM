{
 "cells": [
  {
   "cell_type": "code",
   "execution_count": 1,
   "id": "83aeb018",
   "metadata": {
    "ExecuteTime": {
     "end_time": "2025-01-28T02:01:31.334531Z",
     "start_time": "2025-01-28T02:01:00.643813Z"
    }
   },
   "outputs": [],
   "source": [
    "import numpy as np\n",
    "import pandas as pd\n",
    "from sklearn.model_selection import train_test_split\n",
    "import lightgbm as lgb\n",
    "import xgboost as xgb\n",
    "from sklearn.metrics import mean_squared_error, mean_absolute_error, explained_variance_score, mean_absolute_percentage_error, r2_score\n",
    "from bayes_opt import BayesianOptimization\n",
    "from sklearn.model_selection import cross_val_score\n",
    "from lightgbm import plot_importance\n",
    "from sklearn.ensemble import RandomForestRegressor\n",
    "import matplotlib.pyplot as plt\n",
    "import seaborn as sns\n",
    "import torch\n",
    "from torch import nn\n",
    "import copy\n",
    "import joblib\n",
    "from skopt import BayesSearchCV\n",
    "from skopt.space import Real, Integer\n",
    "import torch.optim as optim\n",
    "from sklearn.preprocessing import MinMaxScaler"
   ]
  },
  {
   "cell_type": "code",
   "execution_count": 310,
   "id": "cac041ff",
   "metadata": {
    "ExecuteTime": {
     "end_time": "2025-01-28T03:49:25.035039Z",
     "start_time": "2025-01-28T03:47:11.945482Z"
    }
   },
   "outputs": [],
   "source": [
    "data = pd.read_excel('data.xlsx')\n",
    "data=data.reset_index()\n",
    "data.columns = data.columns.str.replace(' ', '_')\n",
    "data=data.drop('index',axis=1)"
   ]
  },
  {
   "cell_type": "code",
   "execution_count": 389,
   "id": "5067c8b1",
   "metadata": {
    "ExecuteTime": {
     "end_time": "2025-01-28T04:44:32.833131Z",
     "start_time": "2025-01-28T04:44:32.804478Z"
    }
   },
   "outputs": [],
   "source": [
    "data_x=data.iloc[:,1:291]\n",
    "data_y=data.iloc[:,0]\n",
    "data_g=pd.DataFrame()"
   ]
  },
  {
   "cell_type": "code",
   "execution_count": 390,
   "id": "70f77c0e",
   "metadata": {
    "ExecuteTime": {
     "end_time": "2025-01-28T04:44:38.147044Z",
     "start_time": "2025-01-28T04:44:32.834516Z"
    }
   },
   "outputs": [],
   "source": [
    "def remove_highly_correlated_features(data, threshold=0.9):\n",
    "    corr_matrix = data.corr().abs() \n",
    "    upper = corr_matrix.where(np.triu(np.ones(corr_matrix.shape), k=1).astype(bool))  \n",
    "    to_drop = [column for column in upper.columns if any(upper[column] > threshold)]  #\n",
    "    data_reduced = data.drop(columns=to_drop)\n",
    "    return data_reduced, to_drop\n",
    "\n",
    "data_x, dropped_features = remove_highly_correlated_features(data_x)"
   ]
  },
  {
   "cell_type": "code",
   "execution_count": 391,
   "id": "7133e63c",
   "metadata": {
    "ExecuteTime": {
     "end_time": "2025-01-28T04:44:39.046607Z",
     "start_time": "2025-01-28T04:44:38.150782Z"
    }
   },
   "outputs": [
    {
     "name": "stdout",
     "output_type": "stream",
     "text": [
      "R-squared Score (R2): 0.7978\n"
     ]
    }
   ],
   "source": [
    "data_y=data.iloc[:,329]\n",
    "data_X_train,data_X_test, data_y_train, data_y_test =train_test_split(data_x,data_y,test_size=0.2, random_state=23)\n",
    "\n",
    "xgb_best_model = xgb.XGBRegressor(random_state=23)\n",
    "xgb_best_model.fit(data_X_train, data_y_train)\n",
    "\n",
    "y_pred = xgb_best_model.predict(data_X_test)\n",
    "r2 = r2_score(data_y_test, y_pred)\n",
    "print(\"R-squared Score (R2): {:.4f}\".format(r2))"
   ]
  },
  {
   "cell_type": "code",
   "execution_count": 392,
   "id": "0ce16c65",
   "metadata": {
    "ExecuteTime": {
     "end_time": "2025-01-28T04:46:52.372516Z",
     "start_time": "2025-01-28T04:44:39.046607Z"
    }
   },
   "outputs": [
    {
     "name": "stdout",
     "output_type": "stream",
     "text": [
      "|   iter    |  target   | learni... | max_depth | n_esti... |\n",
      "-------------------------------------------------------------\n",
      "| \u001b[0m1        \u001b[0m | \u001b[0m-2.972e+0\u001b[0m | \u001b[0m0.2625   \u001b[0m | \u001b[0m5.358    \u001b[0m | \u001b[0m739.9    \u001b[0m |\n",
      "| \u001b[0m2        \u001b[0m | \u001b[0m-3.306e+0\u001b[0m | \u001b[0m0.2288   \u001b[0m | \u001b[0m3.615    \u001b[0m | \u001b[0m126.4    \u001b[0m |\n",
      "| \u001b[0m3        \u001b[0m | \u001b[0m-3.427e+0\u001b[0m | \u001b[0m0.2046   \u001b[0m | \u001b[0m2.102    \u001b[0m | \u001b[0m992.6    \u001b[0m |\n",
      "| \u001b[0m4        \u001b[0m | \u001b[0m-3.094e+0\u001b[0m | \u001b[0m0.2405   \u001b[0m | \u001b[0m4.818    \u001b[0m | \u001b[0m738.9    \u001b[0m |\n",
      "| \u001b[95m5        \u001b[0m | \u001b[95m-2.955e+0\u001b[0m | \u001b[95m0.04549  \u001b[0m | \u001b[95m5.807    \u001b[0m | \u001b[95m742.0    \u001b[0m |\n",
      "| \u001b[0m6        \u001b[0m | \u001b[0m-3.301e+0\u001b[0m | \u001b[0m0.05908  \u001b[0m | \u001b[0m2.21     \u001b[0m | \u001b[0m742.8    \u001b[0m |\n",
      "| \u001b[0m7        \u001b[0m | \u001b[0m-3.039e+0\u001b[0m | \u001b[0m0.05946  \u001b[0m | \u001b[0m6.963    \u001b[0m | \u001b[0m741.1    \u001b[0m |\n",
      "| \u001b[0m8        \u001b[0m | \u001b[0m-3.01e+03\u001b[0m | \u001b[0m0.2649   \u001b[0m | \u001b[0m6.887    \u001b[0m | \u001b[0m745.2    \u001b[0m |\n",
      "| \u001b[0m9        \u001b[0m | \u001b[0m-2.979e+0\u001b[0m | \u001b[0m0.06153  \u001b[0m | \u001b[0m6.646    \u001b[0m | \u001b[0m749.0    \u001b[0m |\n",
      "| \u001b[0m10       \u001b[0m | \u001b[0m-3.263e+0\u001b[0m | \u001b[0m0.3      \u001b[0m | \u001b[0m3.767    \u001b[0m | \u001b[0m749.5    \u001b[0m |\n",
      "=============================================================\n",
      "Best Parameters Found: {'target': -2955.281006644144, 'params': {'learning_rate': 0.04549113363046612, 'max_depth': 5.807219904494478, 'n_estimators': 742.0415985737932}}\n",
      "R-squared Score (R2): 0.6853\n"
     ]
    }
   ],
   "source": [
    "\n",
    "def xgb_cv(n_estimators, max_depth, learning_rate,):\n",
    "    params = {\n",
    "        'n_estimators': int(n_estimators),\n",
    "        'max_depth': int(max_depth),\n",
    "        'learning_rate': learning_rate\n",
    "    }\n",
    "    xgb_model = xgb.XGBRegressor(**params)\n",
    "    \n",
    "    cv_scores = cross_val_score(xgb_model, data_X_train, data_y_train, scoring='neg_root_mean_squared_error', cv=5)\n",
    "    return cv_scores.mean()  \n",
    "\n",
    "param_bounds = {\n",
    "    'n_estimators': (100, 1000),\n",
    "    'max_depth': (2, 7),\n",
    "    'learning_rate': (0.01, 0.3)\n",
    "}\n",
    "\n",
    "\n",
    "optimizer = BayesianOptimization(\n",
    "    f=xgb_cv,\n",
    "    pbounds=param_bounds,\n",
    "    verbose=2\n",
    ")\n",
    "optimizer.maximize(init_points=3, n_iter=7)\n",
    "\n",
    "print(\"Best Parameters Found:\", optimizer.max)\n",
    "\n",
    "\n",
    "best_params = optimizer.max['params']\n",
    "best_params['n_estimators'] = int(best_params['n_estimators'])  \n",
    "best_params['max_depth'] = int(best_params['max_depth'])  \n",
    "\n",
    "xgb_best_model = xgb.XGBRegressor(**best_params)\n",
    "xgb_best_model.fit(data_X_train, data_y_train)\n",
    "\n",
    "y_pred = xgb_best_model.predict(data_X_test)\n",
    "r2 = r2_score(data_y_test, y_pred)\n",
    "print(\"R-squared Score (R2): {:.4f}\".format(r2))"
   ]
  },
  {
   "cell_type": "code",
   "execution_count": 393,
   "id": "b24dbf38",
   "metadata": {
    "ExecuteTime": {
     "end_time": "2025-01-28T04:46:52.488738Z",
     "start_time": "2025-01-28T04:46:52.375891Z"
    }
   },
   "outputs": [],
   "source": [
    "data_g['BTUNGPLHEAT']=xgb_best_model.predict(data_x)"
   ]
  },
  {
   "cell_type": "code",
   "execution_count": 394,
   "id": "26184363",
   "metadata": {
    "ExecuteTime": {
     "end_time": "2025-01-28T04:46:53.453585Z",
     "start_time": "2025-01-28T04:46:52.490918Z"
    }
   },
   "outputs": [
    {
     "name": "stdout",
     "output_type": "stream",
     "text": [
      "R-squared Score (R2): 0.5079\n"
     ]
    }
   ],
   "source": [
    "data_y_i=data.iloc[:,330]\n",
    "data_X_train,data_X_test, data_y_train, data_y_test =train_test_split(data_x,data_y_i,test_size=0.2, random_state=23)\n",
    "\n",
    "xgb_best_model = xgb.XGBRegressor(random_state=23)\n",
    "xgb_best_model.fit(data_X_train, data_y_train)\n",
    "\n",
    "y_pred = xgb_best_model.predict(data_X_test)\n",
    "r2 = r2_score(data_y_test, y_pred)\n",
    "print(\"R-squared Score (R2): {:.4f}\".format(r2))"
   ]
  },
  {
   "cell_type": "code",
   "execution_count": 395,
   "id": "6857c944",
   "metadata": {
    "ExecuteTime": {
     "end_time": "2025-01-28T04:48:32.010155Z",
     "start_time": "2025-01-28T04:46:53.453585Z"
    }
   },
   "outputs": [
    {
     "name": "stdout",
     "output_type": "stream",
     "text": [
      "|   iter    |  target   | learni... | max_depth | n_esti... |\n",
      "-------------------------------------------------------------\n",
      "| \u001b[0m1        \u001b[0m | \u001b[0m-2.599e+0\u001b[0m | \u001b[0m0.1979   \u001b[0m | \u001b[0m6.668    \u001b[0m | \u001b[0m866.0    \u001b[0m |\n",
      "| \u001b[95m2        \u001b[0m | \u001b[95m-2.57e+03\u001b[0m | \u001b[95m0.02835  \u001b[0m | \u001b[95m5.401    \u001b[0m | \u001b[95m182.4    \u001b[0m |\n",
      "| \u001b[95m3        \u001b[0m | \u001b[95m-2.511e+0\u001b[0m | \u001b[95m0.06348  \u001b[0m | \u001b[95m3.965    \u001b[0m | \u001b[95m429.7    \u001b[0m |\n",
      "| \u001b[95m4        \u001b[0m | \u001b[95m-2.51e+03\u001b[0m | \u001b[95m0.102    \u001b[0m | \u001b[95m4.861    \u001b[0m | \u001b[95m430.4    \u001b[0m |\n",
      "| \u001b[0m5        \u001b[0m | \u001b[0m-2.679e+0\u001b[0m | \u001b[0m0.3      \u001b[0m | \u001b[0m7.0      \u001b[0m | \u001b[0m487.3    \u001b[0m |\n",
      "| \u001b[0m6        \u001b[0m | \u001b[0m-2.679e+0\u001b[0m | \u001b[0m0.3      \u001b[0m | \u001b[0m7.0      \u001b[0m | \u001b[0m391.3    \u001b[0m |\n",
      "| \u001b[0m7        \u001b[0m | \u001b[0m-2.514e+0\u001b[0m | \u001b[0m0.07505  \u001b[0m | \u001b[0m2.032    \u001b[0m | \u001b[0m448.1    \u001b[0m |\n",
      "| \u001b[0m8        \u001b[0m | \u001b[0m-2.557e+0\u001b[0m | \u001b[0m0.2984   \u001b[0m | \u001b[0m3.221    \u001b[0m | \u001b[0m121.2    \u001b[0m |\n",
      "| \u001b[0m9        \u001b[0m | \u001b[0m-2.543e+0\u001b[0m | \u001b[0m0.07679  \u001b[0m | \u001b[0m2.0      \u001b[0m | \u001b[0m244.9    \u001b[0m |\n",
      "| \u001b[0m10       \u001b[0m | \u001b[0m-2.582e+0\u001b[0m | \u001b[0m0.2048   \u001b[0m | \u001b[0m5.881    \u001b[0m | \u001b[0m283.4    \u001b[0m |\n",
      "=============================================================\n",
      "Best Parameters Found: {'target': -2509.528555965514, 'params': {'learning_rate': 0.10195902289505891, 'max_depth': 4.860886057245166, 'n_estimators': 430.40314160291234}}\n",
      "R-squared Score (R2): 0.5479\n"
     ]
    }
   ],
   "source": [
    "def xgb_cv(n_estimators, max_depth, learning_rate,):\n",
    "    params = {\n",
    "        'n_estimators': int(n_estimators),\n",
    "        'max_depth': int(max_depth),\n",
    "        'learning_rate': learning_rate\n",
    "    }\n",
    "    xgb_model = xgb.XGBRegressor(**params)\n",
    "    \n",
    "\n",
    "    cv_scores = cross_val_score(xgb_model, data_X_train, data_y_train, scoring='neg_root_mean_squared_error', cv=5)\n",
    "    return cv_scores.mean()  \n",
    "\n",
    "\n",
    "param_bounds = {\n",
    "    'n_estimators': (100, 1000),\n",
    "    'max_depth': (2, 7),\n",
    "    'learning_rate': (0.01, 0.3)\n",
    "}\n",
    "\n",
    "\n",
    "optimizer = BayesianOptimization(\n",
    "    f=xgb_cv,\n",
    "    pbounds=param_bounds,\n",
    "    verbose=2\n",
    ")\n",
    "optimizer.maximize(init_points=3, n_iter=7)\n",
    "\n",
    "\n",
    "print(\"Best Parameters Found:\", optimizer.max)\n",
    "\n",
    "\n",
    "best_params = optimizer.max['params']\n",
    "best_params['n_estimators'] = int(best_params['n_estimators'])  \n",
    "best_params['max_depth'] = int(best_params['max_depth'])  \n",
    "\n",
    "\n",
    "xgb_best_model = xgb.XGBRegressor(**best_params)\n",
    "xgb_best_model.fit(data_X_train, data_y_train)\n",
    "\n",
    "y_pred = xgb_best_model.predict(data_X_test)\n",
    "r2 = r2_score(data_y_test, y_pred)\n",
    "print(\"R-squared Score (R2): {:.4f}\".format(r2))"
   ]
  },
  {
   "cell_type": "code",
   "execution_count": 396,
   "id": "f8b84028",
   "metadata": {
    "ExecuteTime": {
     "end_time": "2025-01-28T04:48:32.114412Z",
     "start_time": "2025-01-28T04:48:32.010698Z"
    }
   },
   "outputs": [],
   "source": [
    "data_g['KWHOTH']=xgb_best_model.predict(data_x)"
   ]
  },
  {
   "cell_type": "code",
   "execution_count": 397,
   "id": "4e3fbb94",
   "metadata": {
    "ExecuteTime": {
     "end_time": "2025-01-28T04:48:33.034787Z",
     "start_time": "2025-01-28T04:48:32.114412Z"
    }
   },
   "outputs": [
    {
     "name": "stdout",
     "output_type": "stream",
     "text": [
      "R-squared Score (R2): 0.6001\n"
     ]
    }
   ],
   "source": [
    "data_y_i=data.iloc[:,331]\n",
    "data_X_train,data_X_test, data_y_train, data_y_test =train_test_split(data_x,data_y_i,test_size=0.2, random_state=23)\n",
    "\n",
    "xgb_best_model = xgb.XGBRegressor(random_state=23)\n",
    "xgb_best_model.fit(data_X_train, data_y_train)\n",
    "\n",
    "y_pred = xgb_best_model.predict(data_X_test)\n",
    "r2 = r2_score(data_y_test, y_pred)\n",
    "print(\"R-squared Score (R2): {:.4f}\".format(r2))"
   ]
  },
  {
   "cell_type": "code",
   "execution_count": 398,
   "id": "45086d58",
   "metadata": {
    "ExecuteTime": {
     "end_time": "2025-01-28T04:50:39.605916Z",
     "start_time": "2025-01-28T04:48:33.034787Z"
    }
   },
   "outputs": [
    {
     "name": "stdout",
     "output_type": "stream",
     "text": [
      "|   iter    |  target   | learni... | max_depth | n_esti... |\n",
      "-------------------------------------------------------------\n",
      "| \u001b[0m1        \u001b[0m | \u001b[0m-1.765e+0\u001b[0m | \u001b[0m0.1484   \u001b[0m | \u001b[0m6.383    \u001b[0m | \u001b[0m411.8    \u001b[0m |\n",
      "| \u001b[0m2        \u001b[0m | \u001b[0m-1.797e+0\u001b[0m | \u001b[0m0.193    \u001b[0m | \u001b[0m5.502    \u001b[0m | \u001b[0m992.0    \u001b[0m |\n",
      "| \u001b[0m3        \u001b[0m | \u001b[0m-1.817e+0\u001b[0m | \u001b[0m0.2722   \u001b[0m | \u001b[0m6.989    \u001b[0m | \u001b[0m499.4    \u001b[0m |\n",
      "| \u001b[0m4        \u001b[0m | \u001b[0m-1.845e+0\u001b[0m | \u001b[0m0.2915   \u001b[0m | \u001b[0m6.041    \u001b[0m | \u001b[0m413.0    \u001b[0m |\n",
      "| \u001b[95m5        \u001b[0m | \u001b[95m-1.756e+0\u001b[0m | \u001b[95m0.1108   \u001b[0m | \u001b[95m5.411    \u001b[0m | \u001b[95m992.0    \u001b[0m |\n",
      "| \u001b[0m6        \u001b[0m | \u001b[0m-1.818e+0\u001b[0m | \u001b[0m0.02814  \u001b[0m | \u001b[0m3.281    \u001b[0m | \u001b[0m318.6    \u001b[0m |\n",
      "| \u001b[95m7        \u001b[0m | \u001b[95m-1.737e+0\u001b[0m | \u001b[95m0.03622  \u001b[0m | \u001b[95m6.041    \u001b[0m | \u001b[95m411.7    \u001b[0m |\n",
      "| \u001b[0m8        \u001b[0m | \u001b[0m-1.825e+0\u001b[0m | \u001b[0m0.2843   \u001b[0m | \u001b[0m6.347    \u001b[0m | \u001b[0m793.6    \u001b[0m |\n",
      "| \u001b[0m9        \u001b[0m | \u001b[0m-1.812e+0\u001b[0m | \u001b[0m0.2771   \u001b[0m | \u001b[0m3.947    \u001b[0m | \u001b[0m426.5    \u001b[0m |\n",
      "| \u001b[0m10       \u001b[0m | \u001b[0m-1.737e+0\u001b[0m | \u001b[0m0.07556  \u001b[0m | \u001b[0m5.325    \u001b[0m | \u001b[0m339.3    \u001b[0m |\n",
      "=============================================================\n",
      "Best Parameters Found: {'target': -1736.725753373334, 'params': {'learning_rate': 0.036221151069522325, 'max_depth': 6.0409321817827655, 'n_estimators': 411.69504625858616}}\n",
      "R-squared Score (R2): 0.6464\n"
     ]
    }
   ],
   "source": [
    "def xgb_cv(n_estimators, max_depth, learning_rate,):\n",
    "    params = {\n",
    "        'n_estimators': int(n_estimators),\n",
    "        'max_depth': int(max_depth),\n",
    "        'learning_rate': learning_rate\n",
    "    }\n",
    "    xgb_model = xgb.XGBRegressor(**params)\n",
    "    \n",
    "\n",
    "    cv_scores = cross_val_score(xgb_model, data_X_train, data_y_train, scoring='neg_root_mean_squared_error', cv=5)\n",
    "    return cv_scores.mean()  \n",
    "\n",
    "\n",
    "param_bounds = {\n",
    "    'n_estimators': (100, 1000),\n",
    "    'max_depth': (2, 7),\n",
    "    'learning_rate': (0.01, 0.3)\n",
    "}\n",
    "\n",
    "optimizer = BayesianOptimization(\n",
    "    f=xgb_cv,\n",
    "    pbounds=param_bounds,\n",
    "    verbose=2\n",
    ")\n",
    "optimizer.maximize(init_points=3, n_iter=7)\n",
    "\n",
    "\n",
    "print(\"Best Parameters Found:\", optimizer.max)\n",
    "\n",
    "\n",
    "best_params = optimizer.max['params']\n",
    "best_params['n_estimators'] = int(best_params['n_estimators'])  \n",
    "best_params['max_depth'] = int(best_params['max_depth'])  \n",
    "\n",
    "\n",
    "xgb_best_model = xgb.XGBRegressor(**best_params)\n",
    "xgb_best_model.fit(data_X_train, data_y_train)\n",
    "\n",
    "y_pred = xgb_best_model.predict(data_X_test)\n",
    "r2 = r2_score(data_y_test, y_pred)\n",
    "print(\"R-squared Score (R2): {:.4f}\".format(r2))"
   ]
  },
  {
   "cell_type": "code",
   "execution_count": 399,
   "id": "9a6f382d",
   "metadata": {
    "ExecuteTime": {
     "end_time": "2025-01-28T04:50:39.701870Z",
     "start_time": "2025-01-28T04:50:39.605916Z"
    }
   },
   "outputs": [],
   "source": [
    "data_g['KWHSPH']=xgb_best_model.predict(data_x)"
   ]
  },
  {
   "cell_type": "code",
   "execution_count": 400,
   "id": "97034edb",
   "metadata": {
    "ExecuteTime": {
     "end_time": "2025-01-28T04:50:40.654698Z",
     "start_time": "2025-01-28T04:50:39.701870Z"
    }
   },
   "outputs": [
    {
     "name": "stdout",
     "output_type": "stream",
     "text": [
      "R-squared Score (R2): 0.5916\n"
     ]
    }
   ],
   "source": [
    "data_y_i=data.iloc[:,332]\n",
    "data_X_train,data_X_test, data_y_train, data_y_test =train_test_split(data_x,data_y_i,test_size=0.2, random_state=23)\n",
    "\n",
    "xgb_best_model = xgb.XGBRegressor(random_state=23)\n",
    "xgb_best_model.fit(data_X_train, data_y_train)\n",
    "\n",
    "y_pred = xgb_best_model.predict(data_X_test)\n",
    "r2 = r2_score(data_y_test, y_pred)\n",
    "print(\"R-squared Score (R2): {:.4f}\".format(r2))"
   ]
  },
  {
   "cell_type": "code",
   "execution_count": 401,
   "id": "fc08bd77",
   "metadata": {
    "ExecuteTime": {
     "end_time": "2025-01-28T04:50:40.740895Z",
     "start_time": "2025-01-28T04:50:40.656773Z"
    }
   },
   "outputs": [],
   "source": [
    "data_g['KWHCOL']=xgb_best_model.predict(data_x)"
   ]
  },
  {
   "cell_type": "code",
   "execution_count": 402,
   "id": "481c15dd",
   "metadata": {
    "ExecuteTime": {
     "end_time": "2025-01-28T04:50:41.668838Z",
     "start_time": "2025-01-28T04:50:40.744367Z"
    }
   },
   "outputs": [
    {
     "name": "stdout",
     "output_type": "stream",
     "text": [
      "R-squared Score (R2): 0.6621\n"
     ]
    }
   ],
   "source": [
    "data_y_i=data.iloc[:,333]\n",
    "data_X_train,data_X_test, data_y_train, data_y_test =train_test_split(data_x,data_y_i,test_size=0.2, random_state=23)\n",
    "\n",
    "xgb_best_model = xgb.XGBRegressor(random_state=23)\n",
    "xgb_best_model.fit(data_X_train, data_y_train)\n",
    "\n",
    "\n",
    "y_pred = xgb_best_model.predict(data_X_test)\n",
    "r2 = r2_score(data_y_test, y_pred)\n",
    "print(\"R-squared Score (R2): {:.4f}\".format(r2))"
   ]
  },
  {
   "cell_type": "code",
   "execution_count": 403,
   "id": "11bf44b1",
   "metadata": {
    "ExecuteTime": {
     "end_time": "2025-01-28T04:50:41.748633Z",
     "start_time": "2025-01-28T04:50:41.670920Z"
    }
   },
   "outputs": [],
   "source": [
    "data_g['KWHWTH']=xgb_best_model.predict(data_x)"
   ]
  },
  {
   "cell_type": "code",
   "execution_count": 404,
   "id": "19222047",
   "metadata": {
    "ExecuteTime": {
     "end_time": "2025-01-28T04:50:41.843774Z",
     "start_time": "2025-01-28T04:50:41.750640Z"
    }
   },
   "outputs": [],
   "source": [
    "data_x=data.iloc[:,1:291]\n",
    "data_y=data.iloc[:,0]\n",
    "data_X_train,data_X_test, data_y_train, data_y_test =train_test_split(data_x,data_y,test_size=0.2, random_state=23)"
   ]
  },
  {
   "cell_type": "code",
   "execution_count": 405,
   "id": "8287e7fc",
   "metadata": {
    "ExecuteTime": {
     "end_time": "2025-01-28T04:50:50.675652Z",
     "start_time": "2025-01-28T04:50:41.846852Z"
    }
   },
   "outputs": [],
   "source": [
    "rf = RandomForestRegressor(max_depth=3,n_estimators=50, random_state=23)\n",
    "rf.fit(data_X_train, data_y_train)\n",
    "\n",
    "feature_importance = rf.feature_importances_\n",
    "feature_names = data_x.columns\n",
    "\n",
    "\n",
    "importance_df = pd.DataFrame({\n",
    "    'Feature': feature_names,\n",
    "    'Importance': feature_importance\n",
    "})\n",
    "importance_df = importance_df.sort_values(by='Importance', ascending=False)\n",
    "\n",
    "top_features = importance_df.head(5)['Feature'].tolist()\n",
    "data_select=data_x[top_features]\n",
    "data_g=data_g.merge(data_select, how='inner', left_index=True, right_index=True)"
   ]
  },
  {
   "cell_type": "code",
   "execution_count": 406,
   "id": "254302e0",
   "metadata": {
    "ExecuteTime": {
     "end_time": "2025-01-28T04:50:51.861072Z",
     "start_time": "2025-01-28T04:50:50.680807Z"
    }
   },
   "outputs": [],
   "source": [
    "xgb_best_model = xgb.XGBRegressor()\n",
    "xgb_best_model.fit(data_X_train, data_y_train)\n",
    "\n",
    "feature_importance = xgb_best_model.feature_importances_\n",
    "feature_names = data_x.columns\n",
    "\n",
    "\n",
    "importance_df = pd.DataFrame({\n",
    "    'Feature': feature_names,\n",
    "    'Importance': feature_importance\n",
    "})\n",
    "importance_df = importance_df.sort_values(by='Importance', ascending=False)\n",
    "\n",
    "\n",
    "top_features = importance_df.head(5)['Feature'].tolist()\n",
    "data_select=data_x[top_features]\n",
    "data_g=data_g.merge(data_select, how='inner', left_index=True, right_index=True)"
   ]
  },
  {
   "cell_type": "code",
   "execution_count": 407,
   "id": "796bde6f",
   "metadata": {
    "ExecuteTime": {
     "end_time": "2025-01-28T04:50:51.876282Z",
     "start_time": "2025-01-28T04:50:51.862145Z"
    }
   },
   "outputs": [],
   "source": [
    "data_g['kwh']=data_y"
   ]
  },
  {
   "cell_type": "code",
   "execution_count": 408,
   "id": "86ec1bef",
   "metadata": {
    "ExecuteTime": {
     "end_time": "2025-01-28T04:50:52.124168Z",
     "start_time": "2025-01-28T04:50:51.878392Z"
    }
   },
   "outputs": [],
   "source": [
    "data_g.to_csv('data_g.csv')"
   ]
  }
 ],
 "metadata": {
  "kernelspec": {
   "display_name": "pytorch",
   "language": "python",
   "name": "pytorch"
  },
  "language_info": {
   "codemirror_mode": {
    "name": "ipython",
    "version": 3
   },
   "file_extension": ".py",
   "mimetype": "text/x-python",
   "name": "python",
   "nbconvert_exporter": "python",
   "pygments_lexer": "ipython3",
   "version": "3.9.19"
  },
  "toc": {
   "base_numbering": 1,
   "nav_menu": {},
   "number_sections": true,
   "sideBar": true,
   "skip_h1_title": false,
   "title_cell": "Table of Contents",
   "title_sidebar": "Contents",
   "toc_cell": false,
   "toc_position": {},
   "toc_section_display": true,
   "toc_window_display": false
  },
  "varInspector": {
   "cols": {
    "lenName": 16,
    "lenType": 16,
    "lenVar": 40
   },
   "kernels_config": {
    "python": {
     "delete_cmd_postfix": "",
     "delete_cmd_prefix": "del ",
     "library": "var_list.py",
     "varRefreshCmd": "print(var_dic_list())"
    },
    "r": {
     "delete_cmd_postfix": ") ",
     "delete_cmd_prefix": "rm(",
     "library": "var_list.r",
     "varRefreshCmd": "cat(var_dic_list()) "
    }
   },
   "types_to_exclude": [
    "module",
    "function",
    "builtin_function_or_method",
    "instance",
    "_Feature"
   ],
   "window_display": false
  }
 },
 "nbformat": 4,
 "nbformat_minor": 5
}
